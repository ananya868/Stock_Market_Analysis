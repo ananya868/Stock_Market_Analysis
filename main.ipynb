{
 "cells": [
  {
   "cell_type": "code",
   "execution_count": 2,
   "metadata": {},
   "outputs": [],
   "source": [
    "import pandas_datareader as pdr"
   ]
  },
  {
   "cell_type": "markdown",
   "metadata": {},
   "source": [
    "Steps -\n",
    "1. We will collect the data\n",
    "2. Preprocessing the stock data \n",
    "3. Create an stacked LSTM Model\n",
    "4. Predict the test data and plot the output\n",
    "5. Predict the future 30 days and plot the output"
   ]
  },
  {
   "cell_type": "code",
   "execution_count": 5,
   "metadata": {},
   "outputs": [
    {
     "name": "stderr",
     "output_type": "stream",
     "text": [
      "C:\\Users\\91790\\AppData\\Local\\Temp\\ipykernel_9028\\256902521.py:2: FutureWarning: In a future version of pandas all arguments of concat except for the argument 'objs' will be keyword-only.\n",
      "  df = pdr.get_data_tiingo('AAPL', api_key = key)\n"
     ]
    }
   ],
   "source": [
    "key = 'e78ee8b5cb905a92421abea23c26cca9e933a6cb'\n",
    "df = pdr.get_data_tiingo('AAPL', api_key = key)"
   ]
  },
  {
   "cell_type": "code",
   "execution_count": 6,
   "metadata": {},
   "outputs": [],
   "source": [
    "df.to_csv('AAPL.csv')"
   ]
  },
  {
   "cell_type": "code",
   "execution_count": 9,
   "metadata": {},
   "outputs": [
    {
     "data": {
      "text/html": [
       "<div>\n",
       "<style scoped>\n",
       "    .dataframe tbody tr th:only-of-type {\n",
       "        vertical-align: middle;\n",
       "    }\n",
       "\n",
       "    .dataframe tbody tr th {\n",
       "        vertical-align: top;\n",
       "    }\n",
       "\n",
       "    .dataframe thead th {\n",
       "        text-align: right;\n",
       "    }\n",
       "</style>\n",
       "<table border=\"1\" class=\"dataframe\">\n",
       "  <thead>\n",
       "    <tr style=\"text-align: right;\">\n",
       "      <th></th>\n",
       "      <th>symbol</th>\n",
       "      <th>date</th>\n",
       "      <th>close</th>\n",
       "      <th>high</th>\n",
       "      <th>low</th>\n",
       "      <th>open</th>\n",
       "      <th>volume</th>\n",
       "      <th>adjClose</th>\n",
       "      <th>adjHigh</th>\n",
       "      <th>adjLow</th>\n",
       "      <th>adjOpen</th>\n",
       "      <th>adjVolume</th>\n",
       "      <th>divCash</th>\n",
       "      <th>splitFactor</th>\n",
       "    </tr>\n",
       "  </thead>\n",
       "  <tbody>\n",
       "    <tr>\n",
       "      <th>0</th>\n",
       "      <td>AAPL</td>\n",
       "      <td>2018-07-23 00:00:00+00:00</td>\n",
       "      <td>191.61</td>\n",
       "      <td>191.96</td>\n",
       "      <td>189.56</td>\n",
       "      <td>190.68</td>\n",
       "      <td>15989365</td>\n",
       "      <td>45.775378</td>\n",
       "      <td>45.858993</td>\n",
       "      <td>45.285636</td>\n",
       "      <td>45.553203</td>\n",
       "      <td>63957460</td>\n",
       "      <td>0.0</td>\n",
       "      <td>1.0</td>\n",
       "    </tr>\n",
       "    <tr>\n",
       "      <th>1</th>\n",
       "      <td>AAPL</td>\n",
       "      <td>2018-07-24 00:00:00+00:00</td>\n",
       "      <td>193.00</td>\n",
       "      <td>193.66</td>\n",
       "      <td>192.05</td>\n",
       "      <td>192.45</td>\n",
       "      <td>18697898</td>\n",
       "      <td>46.107448</td>\n",
       "      <td>46.265121</td>\n",
       "      <td>45.880494</td>\n",
       "      <td>45.976053</td>\n",
       "      <td>74791592</td>\n",
       "      <td>0.0</td>\n",
       "      <td>1.0</td>\n",
       "    </tr>\n",
       "    <tr>\n",
       "      <th>2</th>\n",
       "      <td>AAPL</td>\n",
       "      <td>2018-07-25 00:00:00+00:00</td>\n",
       "      <td>194.82</td>\n",
       "      <td>194.85</td>\n",
       "      <td>192.43</td>\n",
       "      <td>193.06</td>\n",
       "      <td>16826483</td>\n",
       "      <td>46.542243</td>\n",
       "      <td>46.549410</td>\n",
       "      <td>45.971275</td>\n",
       "      <td>46.121782</td>\n",
       "      <td>67305932</td>\n",
       "      <td>0.0</td>\n",
       "      <td>1.0</td>\n",
       "    </tr>\n",
       "    <tr>\n",
       "      <th>3</th>\n",
       "      <td>AAPL</td>\n",
       "      <td>2018-07-26 00:00:00+00:00</td>\n",
       "      <td>194.21</td>\n",
       "      <td>195.96</td>\n",
       "      <td>193.61</td>\n",
       "      <td>194.61</td>\n",
       "      <td>19075964</td>\n",
       "      <td>46.396515</td>\n",
       "      <td>46.814588</td>\n",
       "      <td>46.253176</td>\n",
       "      <td>46.492075</td>\n",
       "      <td>76303856</td>\n",
       "      <td>0.0</td>\n",
       "      <td>1.0</td>\n",
       "    </tr>\n",
       "  </tbody>\n",
       "</table>\n",
       "</div>"
      ],
      "text/plain": [
       "  symbol                       date   close    high     low    open    volume  \\\n",
       "0   AAPL  2018-07-23 00:00:00+00:00  191.61  191.96  189.56  190.68  15989365   \n",
       "1   AAPL  2018-07-24 00:00:00+00:00  193.00  193.66  192.05  192.45  18697898   \n",
       "2   AAPL  2018-07-25 00:00:00+00:00  194.82  194.85  192.43  193.06  16826483   \n",
       "3   AAPL  2018-07-26 00:00:00+00:00  194.21  195.96  193.61  194.61  19075964   \n",
       "\n",
       "    adjClose    adjHigh     adjLow    adjOpen  adjVolume  divCash  splitFactor  \n",
       "0  45.775378  45.858993  45.285636  45.553203   63957460      0.0          1.0  \n",
       "1  46.107448  46.265121  45.880494  45.976053   74791592      0.0          1.0  \n",
       "2  46.542243  46.549410  45.971275  46.121782   67305932      0.0          1.0  \n",
       "3  46.396515  46.814588  46.253176  46.492075   76303856      0.0          1.0  "
      ]
     },
     "execution_count": 9,
     "metadata": {},
     "output_type": "execute_result"
    }
   ],
   "source": [
    "import pandas as pd\n",
    "data = pd.read_csv('AAPL.csv')\n",
    "data.head(4)"
   ]
  },
  {
   "cell_type": "code",
   "execution_count": 14,
   "metadata": {},
   "outputs": [
    {
     "data": {
      "text/plain": [
       "'AAPL'"
      ]
     },
     "execution_count": 14,
     "metadata": {},
     "output_type": "execute_result"
    }
   ],
   "source": [
    "data['symbol'].unique().sum()"
   ]
  },
  {
   "cell_type": "code",
   "execution_count": 17,
   "metadata": {},
   "outputs": [
    {
     "data": {
      "text/plain": [
       "array([0.   , 0.73 , 0.77 , 0.82 , 0.205, 0.22 , 0.23 , 0.24 ])"
      ]
     },
     "execution_count": 17,
     "metadata": {},
     "output_type": "execute_result"
    }
   ],
   "source": [
    "data['divCash'].unique()"
   ]
  },
  {
   "cell_type": "code",
   "execution_count": 18,
   "metadata": {},
   "outputs": [
    {
     "data": {
      "text/plain": [
       "array([1., 4.])"
      ]
     },
     "execution_count": 18,
     "metadata": {},
     "output_type": "execute_result"
    }
   ],
   "source": [
    "data['splitFactor'].unique()"
   ]
  },
  {
   "cell_type": "code",
   "execution_count": 19,
   "metadata": {},
   "outputs": [
    {
     "data": {
      "text/plain": [
       "(1256,)"
      ]
     },
     "execution_count": 19,
     "metadata": {},
     "output_type": "execute_result"
    }
   ],
   "source": [
    "close_col = data.reset_index()['close']\n",
    "close_col.shape"
   ]
  },
  {
   "cell_type": "code",
   "execution_count": 21,
   "metadata": {},
   "outputs": [
    {
     "data": {
      "text/plain": [
       "[<matplotlib.lines.Line2D at 0x291249d9790>]"
      ]
     },
     "execution_count": 21,
     "metadata": {},
     "output_type": "execute_result"
    },
    {
     "data": {
      "image/png": "[encoded data removed]",
      "text/plain": [
       "<Figure size 640x480 with 1 Axes>"
      ]
     },
     "metadata": {},
     "output_type": "display_data"
    }
   ],
   "source": [
    "import matplotlib.pyplot as plt\n",
    "plt.plot(close_col)"
   ]
  },
  {
   "cell_type": "code",
   "execution_count": 22,
   "metadata": {},
   "outputs": [],
   "source": [
    "# LSTM are very much sensitive to scale of data \n",
    "# thus we need to scale this data using min max scaler \n",
    "\n",
    "import numpy as np"
   ]
  },
  {
   "cell_type": "code",
   "execution_count": 23,
   "metadata": {},
   "outputs": [
    {
     "data": {
      "text/plain": [
       "0       191.61\n",
       "1       193.00\n",
       "2       194.82\n",
       "3       194.21\n",
       "4       190.98\n",
       "         ...  \n",
       "1251    190.54\n",
       "1252    190.69\n",
       "1253    193.99\n",
       "1254    193.73\n",
       "1255    195.10\n",
       "Name: close, Length: 1256, dtype: float64"
      ]
     },
     "execution_count": 23,
     "metadata": {},
     "output_type": "execute_result"
    }
   ],
   "source": [
    "close_col"
   ]
  },
  {
   "cell_type": "code",
   "execution_count": 24,
   "metadata": {},
   "outputs": [],
   "source": [
    "from sklearn.preprocessing import MinMaxScaler\n",
    "scaler = MinMaxScaler(feature_range= (0,1))\n",
    "close_col = scaler.fit_transform(np.array(close_col).reshape(-1,1))"
   ]
  },
  {
   "cell_type": "code",
   "execution_count": 25,
   "metadata": {},
   "outputs": [
    {
     "data": {
      "text/plain": [
       "array([[0.21232311],\n",
       "       [0.21580463],\n",
       "       [0.22036318],\n",
       "       ...,\n",
       "       [0.21828428],\n",
       "       [0.21763306],\n",
       "       [0.2210645 ]])"
      ]
     },
     "execution_count": 25,
     "metadata": {},
     "output_type": "execute_result"
    }
   ],
   "source": [
    "close_col"
   ]
  },
  {
   "cell_type": "code",
   "execution_count": 28,
   "metadata": {},
   "outputs": [],
   "source": [
    "# train test split techniques\n",
    "\n",
    "# cross validation\n",
    "# random seed\n",
    "# for time series data -> \n",
    "\n",
    "train_size = int(len(close_col)*0.65)\n",
    "test_size = len(close_col) - train_size\n",
    "train_data, test_data = close_col[0:train_size, :], close_col[train_size:len(close_col), :1 ]"
   ]
  },
  {
   "cell_type": "code",
   "execution_count": 29,
   "metadata": {},
   "outputs": [
    {
     "data": {
      "text/plain": [
       "816"
      ]
     },
     "execution_count": 29,
     "metadata": {},
     "output_type": "execute_result"
    }
   ],
   "source": [
    "len(train_data)"
   ]
  },
  {
   "cell_type": "code",
   "execution_count": 30,
   "metadata": {},
   "outputs": [
    {
     "data": {
      "text/plain": [
       "440"
      ]
     },
     "execution_count": 30,
     "metadata": {},
     "output_type": "execute_result"
    }
   ],
   "source": [
    "len(test_data)"
   ]
  },
  {
   "cell_type": "code",
   "execution_count": 31,
   "metadata": {},
   "outputs": [],
   "source": [
    "# Timesteps \n",
    "def create_dataset(dataset, time_step=1):\n",
    "    dataX, dataY = [], []\n",
    "    for i in range(len(dataset)-time_step-1):\n",
    "        a = dataset[i:(i+time_step), 0] ###i=0, 0,1,2,3\n",
    "        dataX.append(a)\n",
    "        dataY.append(dataset[i+time_step, 0])\n",
    "    return np.array(dataX), np.array(dataY)"
   ]
  },
  {
   "cell_type": "code",
   "execution_count": 32,
   "metadata": {},
   "outputs": [],
   "source": [
    "# reshape into X=t, t+1, t+2, t+3 and Y=t+4\n",
    "time_step = 100\n",
    "X_train, y_train = create_dataset(train_data, time_step)\n",
    "X_test, y_test = create_dataset(test_data, time_step)"
   ]
  },
  {
   "cell_type": "code",
   "execution_count": 35,
   "metadata": {},
   "outputs": [
    {
     "name": "stdout",
     "output_type": "stream",
     "text": [
      "[[0.21232311 0.21580463 0.22036318 ... 0.15719474 0.15476518 0.15594239]\n",
      " [0.21580463 0.22036318 0.21883532 ... 0.15476518 0.15594239 0.16057608]\n",
      " [0.22036318 0.21883532 0.21074515 ... 0.15594239 0.16057608 0.14687539]\n",
      " ...\n",
      " [0.05127113 0.0465623  0.05074515 ... 0.09129618 0.09031935 0.09009393]\n",
      " [0.0465623  0.05074515 0.05024421 ... 0.09031935 0.09009393 0.08683782]\n",
      " [0.05074515 0.05024421 0.05011897 ... 0.09009393 0.08683782 0.085335  ]]\n"
     ]
    }
   ],
   "source": [
    "print(X_train)"
   ]
  },
  {
   "cell_type": "code",
   "execution_count": 38,
   "metadata": {},
   "outputs": [
    {
     "name": "stdout",
     "output_type": "stream",
     "text": [
      "(715, 100)\n",
      "(339, 100)\n",
      "(715,)\n",
      "(339,)\n"
     ]
    }
   ],
   "source": [
    "print(X_train.shape)\n",
    "print(X_test.shape)\n",
    "print(y_train.shape)\n",
    "print(y_test.shape)"
   ]
  },
  {
   "cell_type": "code",
   "execution_count": 39,
   "metadata": {},
   "outputs": [],
   "source": [
    "# Reshape input to be [samples, time steps, features] which is required for LSTM\n",
    "X_train = X_train.reshape(X_train.shape[0], X_train.shape[1], 1)\n",
    "X_test = X_test.reshape(X_test.shape[0], X_test.shape[1], 1)"
   ]
  },
  {
   "cell_type": "code",
   "execution_count": 44,
   "metadata": {},
   "outputs": [],
   "source": [
    "# Creating the LSTM model\n",
    "from tensorflow.keras.models import Sequential\n",
    "from tensorflow.keras.layers import Dense\n",
    "from tensorflow.keras.layers import LSTM\n",
    "\n",
    "model = Sequential()\n",
    "\n",
    "# layers\n",
    "model=Sequential()\n",
    "model.add(LSTM(50,return_sequences=True,input_shape=(100,1)))\n",
    "model.add(LSTM(50,return_sequences=True))\n",
    "model.add(LSTM(50))\n",
    "model.add(Dense(1))\n",
    "model.compile(loss='mean_squared_error',optimizer='adam')\n",
    "\n"
   ]
  },
  {
   "cell_type": "code",
   "execution_count": 45,
   "metadata": {},
   "outputs": [
    {
     "name": "stdout",
     "output_type": "stream",
     "text": [
      "Model: \"sequential_5\"\n",
      "_________________________________________________________________\n",
      " Layer (type)                Output Shape              Param #   \n",
      "=================================================================\n",
      " lstm_4 (LSTM)               (None, 100, 50)           10400     \n",
      "                                                                 \n",
      " lstm_5 (LSTM)               (None, 100, 50)           20200     \n",
      "                                                                 \n",
      " lstm_6 (LSTM)               (None, 50)                20200     \n",
      "                                                                 \n",
      " dense (Dense)               (None, 1)                 51        \n",
      "                                                                 \n",
      "=================================================================\n",
      "Total params: 50,851\n",
      "Trainable params: 50,851\n",
      "Non-trainable params: 0\n",
      "_________________________________________________________________\n"
     ]
    }
   ],
   "source": [
    "model.summary()"
   ]
  },
  {
   "cell_type": "code",
   "execution_count": 46,
   "metadata": {},
   "outputs": [
    {
     "name": "stdout",
     "output_type": "stream",
     "text": [
      "Epoch 1/100\n",
      "12/12 [==============================] - 40s 846ms/step - loss: 0.0443 - val_loss: 0.0011\n",
      "Epoch 2/100\n",
      "12/12 [==============================] - 5s 419ms/step - loss: 0.0148 - val_loss: 0.0043\n",
      "Epoch 3/100\n",
      "12/12 [==============================] - 5s 406ms/step - loss: 0.0123 - val_loss: 4.3469e-04\n",
      "Epoch 4/100\n",
      "12/12 [==============================] - 4s 365ms/step - loss: 0.0096 - val_loss: 7.6623e-04\n",
      "Epoch 5/100\n",
      "12/12 [==============================] - 5s 390ms/step - loss: 0.0094 - val_loss: 0.0015\n",
      "Epoch 6/100\n",
      "12/12 [==============================] - 5s 425ms/step - loss: 0.0082 - val_loss: 4.5541e-04\n",
      "Epoch 7/100\n",
      "12/12 [==============================] - 5s 408ms/step - loss: 0.0074 - val_loss: 3.7612e-04\n",
      "Epoch 8/100\n",
      "12/12 [==============================] - 5s 393ms/step - loss: 0.0067 - val_loss: 2.9571e-04\n",
      "Epoch 9/100\n",
      "12/12 [==============================] - 4s 360ms/step - loss: 0.0076 - val_loss: 5.6968e-04\n",
      "Epoch 10/100\n",
      "12/12 [==============================] - 6s 463ms/step - loss: 0.0060 - val_loss: 2.9461e-04\n",
      "Epoch 11/100\n",
      "12/12 [==============================] - 5s 455ms/step - loss: 0.0057 - val_loss: 9.6841e-04\n",
      "Epoch 12/100\n",
      "12/12 [==============================] - 4s 380ms/step - loss: 0.0050 - val_loss: 7.2332e-04\n",
      "Epoch 13/100\n",
      "12/12 [==============================] - 6s 507ms/step - loss: 0.0051 - val_loss: 6.4105e-04\n",
      "Epoch 14/100\n",
      "12/12 [==============================] - 6s 544ms/step - loss: 0.0049 - val_loss: 3.9169e-04\n",
      "Epoch 15/100\n",
      "12/12 [==============================] - 7s 554ms/step - loss: 0.0044 - val_loss: 3.3287e-04\n",
      "Epoch 16/100\n",
      "12/12 [==============================] - 6s 494ms/step - loss: 0.0061 - val_loss: 3.9948e-04\n",
      "Epoch 17/100\n",
      "12/12 [==============================] - 8s 632ms/step - loss: 0.0050 - val_loss: 0.0012\n",
      "Epoch 18/100\n",
      "12/12 [==============================] - 6s 522ms/step - loss: 0.0043 - val_loss: 2.5651e-04\n",
      "Epoch 19/100\n",
      "12/12 [==============================] - 7s 570ms/step - loss: 0.0032 - val_loss: 3.5539e-04\n",
      "Epoch 20/100\n",
      "12/12 [==============================] - 5s 443ms/step - loss: 0.0032 - val_loss: 2.6439e-04\n",
      "Epoch 21/100\n",
      "12/12 [==============================] - 5s 421ms/step - loss: 0.0026 - val_loss: 2.3820e-04\n",
      "Epoch 22/100\n",
      "12/12 [==============================] - 5s 427ms/step - loss: 0.0027 - val_loss: 2.4251e-04\n",
      "Epoch 23/100\n",
      "12/12 [==============================] - 5s 396ms/step - loss: 0.0024 - val_loss: 2.2058e-04\n",
      "Epoch 24/100\n",
      "12/12 [==============================] - 6s 507ms/step - loss: 0.0017 - val_loss: 2.2012e-04\n",
      "Epoch 25/100\n",
      "12/12 [==============================] - 5s 361ms/step - loss: 0.0018 - val_loss: 2.2085e-04\n",
      "Epoch 26/100\n",
      "12/12 [==============================] - 5s 436ms/step - loss: 0.0047 - val_loss: 0.0012\n",
      "Epoch 27/100\n",
      "12/12 [==============================] - 5s 429ms/step - loss: 0.0116 - val_loss: 0.0014\n",
      "Epoch 28/100\n",
      "12/12 [==============================] - 5s 445ms/step - loss: 0.0065 - val_loss: 0.0013\n",
      "Epoch 29/100\n",
      "12/12 [==============================] - 6s 491ms/step - loss: 0.0039 - val_loss: 2.5559e-04\n",
      "Epoch 30/100\n",
      "12/12 [==============================] - 5s 403ms/step - loss: 0.0033 - val_loss: 2.6525e-04\n",
      "Epoch 31/100\n",
      "12/12 [==============================] - 5s 387ms/step - loss: 0.0031 - val_loss: 3.0990e-04\n",
      "Epoch 32/100\n",
      "12/12 [==============================] - 4s 355ms/step - loss: 0.0041 - val_loss: 2.1261e-04\n",
      "Epoch 33/100\n",
      "12/12 [==============================] - 6s 504ms/step - loss: 0.0034 - val_loss: 2.5803e-04\n",
      "Epoch 34/100\n",
      "12/12 [==============================] - 8s 681ms/step - loss: 0.0027 - val_loss: 2.3635e-04\n",
      "Epoch 35/100\n",
      "12/12 [==============================] - 6s 494ms/step - loss: 0.0025 - val_loss: 2.1165e-04\n",
      "Epoch 36/100\n",
      "12/12 [==============================] - 5s 433ms/step - loss: 0.0023 - val_loss: 2.4715e-04\n",
      "Epoch 37/100\n",
      "12/12 [==============================] - 5s 399ms/step - loss: 0.0023 - val_loss: 2.2588e-04\n",
      "Epoch 38/100\n",
      "12/12 [==============================] - 5s 399ms/step - loss: 0.0022 - val_loss: 2.2841e-04\n",
      "Epoch 39/100\n",
      "12/12 [==============================] - 5s 444ms/step - loss: 0.0020 - val_loss: 2.2138e-04\n",
      "Epoch 40/100\n",
      "12/12 [==============================] - 5s 410ms/step - loss: 0.0021 - val_loss: 2.0111e-04\n",
      "Epoch 41/100\n",
      "12/12 [==============================] - 5s 416ms/step - loss: 0.0022 - val_loss: 2.0429e-04\n",
      "Epoch 42/100\n",
      "12/12 [==============================] - 5s 437ms/step - loss: 0.0021 - val_loss: 2.0647e-04\n",
      "Epoch 43/100\n",
      "12/12 [==============================] - 5s 427ms/step - loss: 0.0023 - val_loss: 2.1990e-04\n",
      "Epoch 44/100\n",
      "12/12 [==============================] - 5s 423ms/step - loss: 0.0019 - val_loss: 2.4380e-04\n",
      "Epoch 45/100\n",
      "12/12 [==============================] - 5s 415ms/step - loss: 0.0019 - val_loss: 2.0662e-04\n",
      "Epoch 46/100\n",
      "12/12 [==============================] - 5s 408ms/step - loss: 0.0019 - val_loss: 2.3132e-04\n",
      "Epoch 47/100\n",
      "12/12 [==============================] - 5s 427ms/step - loss: 0.0020 - val_loss: 2.0820e-04\n",
      "Epoch 48/100\n",
      "12/12 [==============================] - 5s 409ms/step - loss: 0.0018 - val_loss: 2.0865e-04\n",
      "Epoch 49/100\n",
      "12/12 [==============================] - 6s 505ms/step - loss: 0.0016 - val_loss: 2.3117e-04\n",
      "Epoch 50/100\n",
      "12/12 [==============================] - 5s 453ms/step - loss: 0.0017 - val_loss: 2.6220e-04\n",
      "Epoch 51/100\n",
      "12/12 [==============================] - 5s 419ms/step - loss: 0.0023 - val_loss: 2.2025e-04\n",
      "Epoch 52/100\n",
      "12/12 [==============================] - 5s 404ms/step - loss: 0.0016 - val_loss: 2.0937e-04\n",
      "Epoch 53/100\n",
      "12/12 [==============================] - 5s 416ms/step - loss: 0.0020 - val_loss: 2.1245e-04\n",
      "Epoch 54/100\n",
      "12/12 [==============================] - 5s 414ms/step - loss: 0.0016 - val_loss: 2.5516e-04\n",
      "Epoch 55/100\n",
      "12/12 [==============================] - 5s 444ms/step - loss: 0.0018 - val_loss: 2.1946e-04\n",
      "Epoch 56/100\n",
      "12/12 [==============================] - 5s 423ms/step - loss: 0.0014 - val_loss: 2.0618e-04\n",
      "Epoch 57/100\n",
      "12/12 [==============================] - 5s 434ms/step - loss: 0.0023 - val_loss: 2.3452e-04\n",
      "Epoch 58/100\n",
      "12/12 [==============================] - 5s 397ms/step - loss: 0.0020 - val_loss: 2.7995e-04\n",
      "Epoch 59/100\n",
      "12/12 [==============================] - 5s 395ms/step - loss: 0.0024 - val_loss: 2.2667e-04\n",
      "Epoch 60/100\n",
      "12/12 [==============================] - 6s 463ms/step - loss: 0.0018 - val_loss: 2.1635e-04\n",
      "Epoch 61/100\n",
      "12/12 [==============================] - 5s 441ms/step - loss: 0.0016 - val_loss: 2.3666e-04\n",
      "Epoch 62/100\n",
      "12/12 [==============================] - 5s 408ms/step - loss: 0.0015 - val_loss: 2.0707e-04\n",
      "Epoch 63/100\n",
      "12/12 [==============================] - 5s 429ms/step - loss: 0.0015 - val_loss: 2.0427e-04\n",
      "Epoch 64/100\n",
      "12/12 [==============================] - 5s 395ms/step - loss: 0.0015 - val_loss: 2.0955e-04\n",
      "Epoch 65/100\n",
      "12/12 [==============================] - 5s 413ms/step - loss: 0.0016 - val_loss: 2.2142e-04\n",
      "Epoch 66/100\n",
      "12/12 [==============================] - 5s 422ms/step - loss: 0.0015 - val_loss: 2.0616e-04\n",
      "Epoch 67/100\n",
      "12/12 [==============================] - 5s 389ms/step - loss: 0.0013 - val_loss: 2.0858e-04\n",
      "Epoch 68/100\n",
      "12/12 [==============================] - 7s 589ms/step - loss: 0.0016 - val_loss: 2.6725e-04\n",
      "Epoch 69/100\n",
      "12/12 [==============================] - 7s 559ms/step - loss: 0.0041 - val_loss: 5.6790e-04\n",
      "Epoch 70/100\n",
      "12/12 [==============================] - 6s 474ms/step - loss: 0.0043 - val_loss: 2.8983e-04\n",
      "Epoch 71/100\n",
      "12/12 [==============================] - 6s 474ms/step - loss: 0.0028 - val_loss: 3.1351e-04\n",
      "Epoch 72/100\n",
      "12/12 [==============================] - 5s 456ms/step - loss: 0.0035 - val_loss: 7.7037e-04\n",
      "Epoch 73/100\n",
      "12/12 [==============================] - 6s 491ms/step - loss: 0.0023 - val_loss: 5.0990e-04\n",
      "Epoch 74/100\n",
      "12/12 [==============================] - 6s 461ms/step - loss: 0.0016 - val_loss: 2.3581e-04\n",
      "Epoch 75/100\n",
      "12/12 [==============================] - 6s 460ms/step - loss: 0.0017 - val_loss: 2.5585e-04\n",
      "Epoch 76/100\n",
      "12/12 [==============================] - 6s 475ms/step - loss: 0.0016 - val_loss: 3.0926e-04\n",
      "Epoch 77/100\n",
      "12/12 [==============================] - 6s 483ms/step - loss: 0.0023 - val_loss: 2.4789e-04\n",
      "Epoch 78/100\n",
      "12/12 [==============================] - 7s 612ms/step - loss: 0.0015 - val_loss: 2.4409e-04\n",
      "Epoch 79/100\n",
      "12/12 [==============================] - 6s 506ms/step - loss: 0.0020 - val_loss: 2.0117e-04\n",
      "Epoch 80/100\n",
      "12/12 [==============================] - 7s 558ms/step - loss: 0.0018 - val_loss: 2.2510e-04\n",
      "Epoch 81/100\n",
      "12/12 [==============================] - 7s 601ms/step - loss: 0.0016 - val_loss: 1.9375e-04\n",
      "Epoch 82/100\n",
      "12/12 [==============================] - 7s 602ms/step - loss: 0.0014 - val_loss: 2.3374e-04\n",
      "Epoch 83/100\n",
      "12/12 [==============================] - 6s 518ms/step - loss: 0.0014 - val_loss: 1.8931e-04\n",
      "Epoch 84/100\n",
      "12/12 [==============================] - 6s 478ms/step - loss: 0.0014 - val_loss: 1.9607e-04\n",
      "Epoch 85/100\n",
      "12/12 [==============================] - 6s 497ms/step - loss: 0.0014 - val_loss: 2.0038e-04\n",
      "Epoch 86/100\n",
      "12/12 [==============================] - 6s 473ms/step - loss: 0.0012 - val_loss: 1.9786e-04\n",
      "Epoch 87/100\n",
      "12/12 [==============================] - 6s 481ms/step - loss: 0.0012 - val_loss: 2.1880e-04\n",
      "Epoch 88/100\n",
      "12/12 [==============================] - 5s 451ms/step - loss: 0.0012 - val_loss: 1.9208e-04\n",
      "Epoch 89/100\n",
      "12/12 [==============================] - 6s 466ms/step - loss: 0.0013 - val_loss: 2.2385e-04\n",
      "Epoch 90/100\n",
      "12/12 [==============================] - 6s 485ms/step - loss: 0.0012 - val_loss: 2.2194e-04\n",
      "Epoch 91/100\n",
      "12/12 [==============================] - 6s 448ms/step - loss: 0.0014 - val_loss: 2.1355e-04\n",
      "Epoch 92/100\n",
      "12/12 [==============================] - 6s 483ms/step - loss: 0.0012 - val_loss: 1.9132e-04\n",
      "Epoch 93/100\n",
      "12/12 [==============================] - 6s 494ms/step - loss: 0.0013 - val_loss: 2.5623e-04\n",
      "Epoch 94/100\n",
      "12/12 [==============================] - 6s 461ms/step - loss: 0.0011 - val_loss: 2.1349e-04\n",
      "Epoch 95/100\n",
      "12/12 [==============================] - 5s 459ms/step - loss: 0.0011 - val_loss: 2.1002e-04\n",
      "Epoch 96/100\n",
      "12/12 [==============================] - 5s 447ms/step - loss: 0.0017 - val_loss: 7.5520e-04\n",
      "Epoch 97/100\n",
      "12/12 [==============================] - 6s 502ms/step - loss: 0.0031 - val_loss: 7.1573e-04\n",
      "Epoch 98/100\n",
      "12/12 [==============================] - 6s 477ms/step - loss: 0.0035 - val_loss: 5.7186e-04\n",
      "Epoch 99/100\n",
      "12/12 [==============================] - 6s 497ms/step - loss: 0.0026 - val_loss: 3.3521e-04\n",
      "Epoch 100/100\n",
      "12/12 [==============================] - 6s 495ms/step - loss: 0.0019 - val_loss: 1.9999e-04\n"
     ]
    },
    {
     "data": {
      "text/plain": [
       "<keras.callbacks.History at 0x291428861d0>"
      ]
     },
     "execution_count": 46,
     "metadata": {},
     "output_type": "execute_result"
    }
   ],
   "source": [
    "model.fit(X_train, y_train, validation_data=(X_test, y_test), epochs=100, batch_size=64, verbose = 1)"
   ]
  },
  {
   "cell_type": "code",
   "execution_count": 1,
   "metadata": {},
   "outputs": [
    {
     "data": {
      "text/plain": [
       "'2.12.0'"
      ]
     },
     "execution_count": 1,
     "metadata": {},
     "output_type": "execute_result"
    }
   ],
   "source": [
    "import tensorflow as tf \n",
    "tf.__version__"
   ]
  },
  {
   "cell_type": "code",
   "execution_count": 2,
   "metadata": {},
   "outputs": [
    {
     "ename": "NameError",
     "evalue": "name 'model' is not defined",
     "output_type": "error",
     "traceback": [
      "\u001b[1;31m---------------------------------------------------------------------------\u001b[0m",
      "\u001b[1;31mNameError\u001b[0m                                 Traceback (most recent call last)",
      "Cell \u001b[1;32mIn[2], line 1\u001b[0m\n\u001b[1;32m----> 1\u001b[0m train_pred \u001b[39m=\u001b[39m model\u001b[39m.\u001b[39mpredict(X_train)\n\u001b[0;32m      2\u001b[0m test_pred \u001b[39m=\u001b[39m model\u001b[39m.\u001b[39mpredcit(X_test)\n",
      "\u001b[1;31mNameError\u001b[0m: name 'model' is not defined"
     ]
    }
   ],
   "source": [
    "train_pred = model.predict(X_train)\n",
    "test_pred = model.predcit(X_test)"
   ]
  },
  {
   "cell_type": "code",
   "execution_count": null,
   "metadata": {},
   "outputs": [],
   "source": [
    "train_predict = scaler.inverse_transform(train_pred)\n",
    "test_predict = scaler.inverse_transform(test_pred)"
   ]
  },
  {
   "cell_type": "code",
   "execution_count": null,
   "metadata": {},
   "outputs": [],
   "source": [
    "import math \n",
    "from sklearn.metrics import mean_squared_error\n",
    "math.sqrt(mean_squared_error(y_train, train_predict))"
   ]
  },
  {
   "cell_type": "code",
   "execution_count": null,
   "metadata": {},
   "outputs": [],
   "source": [
    "math.sqrt(mean_squared_error(y_test, test_predict))"
   ]
  },
  {
   "cell_type": "code",
   "execution_count": null,
   "metadata": {},
   "outputs": [],
   "source": []
  },
  {
   "cell_type": "code",
   "execution_count": null,
   "metadata": {},
   "outputs": [],
   "source": []
  },
  {
   "cell_type": "code",
   "execution_count": null,
   "metadata": {},
   "outputs": [],
   "source": []
  }
 ],
 "metadata": {
  "kernelspec": {
   "display_name": "Python 3",
   "language": "python",
   "name": "python3"
  },
  "language_info": {
   "codemirror_mode": {
    "name": "ipython",
    "version": 3
   },
   "file_extension": ".py",
   "mimetype": "text/x-python",
   "name": "python",
   "nbconvert_exporter": "python",
   "pygments_lexer": "ipython3",
   "version": "3.11.1"
  },
  "orig_nbformat": 4
 },
 "nbformat": 4,
 "nbformat_minor": 2
}
